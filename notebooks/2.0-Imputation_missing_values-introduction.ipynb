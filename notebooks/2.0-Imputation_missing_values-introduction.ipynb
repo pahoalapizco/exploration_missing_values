{
 "cells": [
  {
   "cell_type": "markdown",
   "metadata": {},
   "source": [
    "# Manejo de datos faltantes: Imputación"
   ]
  },
  {
   "cell_type": "markdown",
   "metadata": {},
   "source": [
    "**Imputación**: Estimar los valores faltantes a partir de los datos validos de otras variables y/o otros casos de muestra."
   ]
  },
  {
   "cell_type": "markdown",
   "metadata": {},
   "source": [
    "## Problema de trabajar con datos faltantes"
   ]
  },
  {
   "cell_type": "markdown",
   "metadata": {},
   "source": [
    "- Ignorar los valores faltantes puede introducir sesgos en los sesgos a los análisis y modelos.\n",
    "- Multiples algoritmos fallaran al no estar preparados (diseñados) para trabajar con `datasets` que tiene valores faltantes."
   ]
  },
  {
   "cell_type": "code",
   "execution_count": 1,
   "metadata": {},
   "outputs": [
    {
     "name": "stdout",
     "output_type": "stream",
     "text": [
      "Requirement already satisfied: pyjanitor==0.22.0 in /home/pahoalapizco/anaconda3/envs/exploration_missing_values/lib/python3.9/site-packages (0.22.0)\n",
      "Requirement already satisfied: natsort in /home/pahoalapizco/anaconda3/envs/exploration_missing_values/lib/python3.9/site-packages (from pyjanitor==0.22.0) (7.1.1)\n",
      "Requirement already satisfied: pandas-flavor in /home/pahoalapizco/anaconda3/envs/exploration_missing_values/lib/python3.9/site-packages (from pyjanitor==0.22.0) (0.6.0)\n",
      "Requirement already satisfied: multipledispatch in /home/pahoalapizco/anaconda3/envs/exploration_missing_values/lib/python3.9/site-packages (from pyjanitor==0.22.0) (0.6.0)\n",
      "Requirement already satisfied: scipy in /home/pahoalapizco/anaconda3/envs/exploration_missing_values/lib/python3.9/site-packages (from pyjanitor==0.22.0) (1.11.3)\n",
      "Requirement already satisfied: six in /home/pahoalapizco/anaconda3/envs/exploration_missing_values/lib/python3.9/site-packages (from multipledispatch->pyjanitor==0.22.0) (1.16.0)\n",
      "Requirement already satisfied: pandas>=0.23 in /home/pahoalapizco/anaconda3/envs/exploration_missing_values/lib/python3.9/site-packages (from pandas-flavor->pyjanitor==0.22.0) (2.1.1)\n",
      "Requirement already satisfied: xarray in /home/pahoalapizco/anaconda3/envs/exploration_missing_values/lib/python3.9/site-packages (from pandas-flavor->pyjanitor==0.22.0) (2023.6.0)\n",
      "Requirement already satisfied: numpy<1.28.0,>=1.21.6 in /home/pahoalapizco/anaconda3/envs/exploration_missing_values/lib/python3.9/site-packages (from scipy->pyjanitor==0.22.0) (1.26.0)\n",
      "Requirement already satisfied: python-dateutil>=2.8.2 in /home/pahoalapizco/anaconda3/envs/exploration_missing_values/lib/python3.9/site-packages (from pandas>=0.23->pandas-flavor->pyjanitor==0.22.0) (2.8.2)\n",
      "Requirement already satisfied: pytz>=2020.1 in /home/pahoalapizco/anaconda3/envs/exploration_missing_values/lib/python3.9/site-packages (from pandas>=0.23->pandas-flavor->pyjanitor==0.22.0) (2023.3.post1)\n",
      "Requirement already satisfied: tzdata>=2022.1 in /home/pahoalapizco/anaconda3/envs/exploration_missing_values/lib/python3.9/site-packages (from pandas>=0.23->pandas-flavor->pyjanitor==0.22.0) (2023.3)\n",
      "Requirement already satisfied: packaging>=21.3 in /home/pahoalapizco/anaconda3/envs/exploration_missing_values/lib/python3.9/site-packages (from xarray->pandas-flavor->pyjanitor==0.22.0) (23.1)\n",
      "\u001b[33mWARNING: There was an error checking the latest version of pip.\u001b[0m\u001b[33m\n",
      "\u001b[0mNote: you may need to restart the kernel to use updated packages.\n"
     ]
    }
   ],
   "source": [
    "# Posterior a la versión 22 no es posible importar janitor, por un error en una de las librerias que utiliza pyjanitor\n",
    "%pip install pyjanitor==0.22.0"
   ]
  },
  {
   "cell_type": "code",
   "execution_count": 2,
   "metadata": {},
   "outputs": [],
   "source": [
    "import pandas as pd\n",
    "import nhanes.load\n",
    "import statsmodels.api as sm\n",
    "import statsmodels.formula.api as smf\n",
    "import janitor"
   ]
  },
  {
   "cell_type": "code",
   "execution_count": 3,
   "metadata": {},
   "outputs": [
    {
     "data": {
      "text/html": [
       "<div>\n",
       "<style scoped>\n",
       "    .dataframe tbody tr th:only-of-type {\n",
       "        vertical-align: middle;\n",
       "    }\n",
       "\n",
       "    .dataframe tbody tr th {\n",
       "        vertical-align: top;\n",
       "    }\n",
       "\n",
       "    .dataframe thead th {\n",
       "        text-align: right;\n",
       "    }\n",
       "</style>\n",
       "<table border=\"1\" class=\"dataframe\">\n",
       "  <thead>\n",
       "    <tr style=\"text-align: right;\">\n",
       "      <th></th>\n",
       "      <th>ozone</th>\n",
       "      <th>solar_r</th>\n",
       "      <th>wind</th>\n",
       "      <th>temp</th>\n",
       "      <th>month</th>\n",
       "      <th>day</th>\n",
       "      <th>year</th>\n",
       "    </tr>\n",
       "    <tr>\n",
       "      <th>date</th>\n",
       "      <th></th>\n",
       "      <th></th>\n",
       "      <th></th>\n",
       "      <th></th>\n",
       "      <th></th>\n",
       "      <th></th>\n",
       "      <th></th>\n",
       "    </tr>\n",
       "  </thead>\n",
       "  <tbody>\n",
       "    <tr>\n",
       "      <th>1973-05-01</th>\n",
       "      <td>41.0</td>\n",
       "      <td>190.0</td>\n",
       "      <td>7.4</td>\n",
       "      <td>67</td>\n",
       "      <td>5</td>\n",
       "      <td>1</td>\n",
       "      <td>1973</td>\n",
       "    </tr>\n",
       "    <tr>\n",
       "      <th>1973-05-02</th>\n",
       "      <td>36.0</td>\n",
       "      <td>118.0</td>\n",
       "      <td>8.0</td>\n",
       "      <td>72</td>\n",
       "      <td>5</td>\n",
       "      <td>2</td>\n",
       "      <td>1973</td>\n",
       "    </tr>\n",
       "    <tr>\n",
       "      <th>1973-05-03</th>\n",
       "      <td>12.0</td>\n",
       "      <td>149.0</td>\n",
       "      <td>12.6</td>\n",
       "      <td>74</td>\n",
       "      <td>5</td>\n",
       "      <td>3</td>\n",
       "      <td>1973</td>\n",
       "    </tr>\n",
       "    <tr>\n",
       "      <th>1973-05-04</th>\n",
       "      <td>18.0</td>\n",
       "      <td>313.0</td>\n",
       "      <td>11.5</td>\n",
       "      <td>62</td>\n",
       "      <td>5</td>\n",
       "      <td>4</td>\n",
       "      <td>1973</td>\n",
       "    </tr>\n",
       "    <tr>\n",
       "      <th>1973-05-05</th>\n",
       "      <td>NaN</td>\n",
       "      <td>NaN</td>\n",
       "      <td>14.3</td>\n",
       "      <td>56</td>\n",
       "      <td>5</td>\n",
       "      <td>5</td>\n",
       "      <td>1973</td>\n",
       "    </tr>\n",
       "    <tr>\n",
       "      <th>...</th>\n",
       "      <td>...</td>\n",
       "      <td>...</td>\n",
       "      <td>...</td>\n",
       "      <td>...</td>\n",
       "      <td>...</td>\n",
       "      <td>...</td>\n",
       "      <td>...</td>\n",
       "    </tr>\n",
       "    <tr>\n",
       "      <th>1973-09-26</th>\n",
       "      <td>30.0</td>\n",
       "      <td>193.0</td>\n",
       "      <td>6.9</td>\n",
       "      <td>70</td>\n",
       "      <td>9</td>\n",
       "      <td>26</td>\n",
       "      <td>1973</td>\n",
       "    </tr>\n",
       "    <tr>\n",
       "      <th>1973-09-27</th>\n",
       "      <td>NaN</td>\n",
       "      <td>145.0</td>\n",
       "      <td>13.2</td>\n",
       "      <td>77</td>\n",
       "      <td>9</td>\n",
       "      <td>27</td>\n",
       "      <td>1973</td>\n",
       "    </tr>\n",
       "    <tr>\n",
       "      <th>1973-09-28</th>\n",
       "      <td>14.0</td>\n",
       "      <td>191.0</td>\n",
       "      <td>14.3</td>\n",
       "      <td>75</td>\n",
       "      <td>9</td>\n",
       "      <td>28</td>\n",
       "      <td>1973</td>\n",
       "    </tr>\n",
       "    <tr>\n",
       "      <th>1973-09-29</th>\n",
       "      <td>18.0</td>\n",
       "      <td>131.0</td>\n",
       "      <td>8.0</td>\n",
       "      <td>76</td>\n",
       "      <td>9</td>\n",
       "      <td>29</td>\n",
       "      <td>1973</td>\n",
       "    </tr>\n",
       "    <tr>\n",
       "      <th>1973-09-30</th>\n",
       "      <td>20.0</td>\n",
       "      <td>223.0</td>\n",
       "      <td>11.5</td>\n",
       "      <td>68</td>\n",
       "      <td>9</td>\n",
       "      <td>30</td>\n",
       "      <td>1973</td>\n",
       "    </tr>\n",
       "  </tbody>\n",
       "</table>\n",
       "<p>153 rows × 7 columns</p>\n",
       "</div>"
      ],
      "text/plain": [
       "            ozone  solar_r  wind  temp  month  day  year\n",
       "date                                                    \n",
       "1973-05-01   41.0    190.0   7.4    67      5    1  1973\n",
       "1973-05-02   36.0    118.0   8.0    72      5    2  1973\n",
       "1973-05-03   12.0    149.0  12.6    74      5    3  1973\n",
       "1973-05-04   18.0    313.0  11.5    62      5    4  1973\n",
       "1973-05-05    NaN      NaN  14.3    56      5    5  1973\n",
       "...           ...      ...   ...   ...    ...  ...   ...\n",
       "1973-09-26   30.0    193.0   6.9    70      9   26  1973\n",
       "1973-09-27    NaN    145.0  13.2    77      9   27  1973\n",
       "1973-09-28   14.0    191.0  14.3    75      9   28  1973\n",
       "1973-09-29   18.0    131.0   8.0    76      9   29  1973\n",
       "1973-09-30   20.0    223.0  11.5    68      9   30  1973\n",
       "\n",
       "[153 rows x 7 columns]"
      ]
     },
     "execution_count": 3,
     "metadata": {},
     "output_type": "execute_result"
    }
   ],
   "source": [
    "airquality_df = (\n",
    "  sm.datasets.get_rdataset(\"airquality\")\n",
    "  .data\n",
    "  .clean_names(\n",
    "    case_type=\"snake\",\n",
    "  )\n",
    "  .add_column(\"year\", 1973)\n",
    "  .assign(\n",
    "    date = lambda df: pd.to_datetime(df[[\"year\", \"month\", \"day\"]])\n",
    "  )\n",
    "  .sort_values(by=\"date\")\n",
    "  .set_index(\"date\")\n",
    ")\n",
    "airquality_df"
   ]
  },
  {
   "cell_type": "code",
   "execution_count": 4,
   "metadata": {},
   "outputs": [
    {
     "name": "stdout",
     "output_type": "stream",
     "text": [
      "(153, 7)\n"
     ]
    },
    {
     "data": {
      "text/plain": [
       "ozone      37\n",
       "solar_r     7\n",
       "wind        0\n",
       "temp        0\n",
       "month       0\n",
       "day         0\n",
       "year        0\n",
       "dtype: int64"
      ]
     },
     "execution_count": 4,
     "metadata": {},
     "output_type": "execute_result"
    }
   ],
   "source": [
    "print(airquality_df.shape)\n",
    "airquality_df.isna().sum()"
   ]
  },
  {
   "cell_type": "markdown",
   "metadata": {},
   "source": [
    "En el dataset `airquality` tenemos 157 observacionesy y 7 variables; de las cuales 2 de ellas tienen valores faltantes.\n",
    "\n",
    "Si tomamos tal cual el conjunto de datos para ajustar un modelo de regresión líneal y así predecir la temperatura con base en las variables con valores faltantes terminariamos con un modelo sesgado y errono.\n",
    "\n",
    "**Comprobación:**"
   ]
  },
  {
   "cell_type": "code",
   "execution_count": 5,
   "metadata": {},
   "outputs": [
    {
     "name": "stderr",
     "output_type": "stream",
     "text": [
      "/home/pahoalapizco/anaconda3/envs/exploration_missing_values/lib/python3.9/site-packages/patsy/util.py:672: FutureWarning: is_categorical_dtype is deprecated and will be removed in a future version. Use isinstance(dtype, CategoricalDtype) instead\n",
      "  return _pandas_is_categorical_dtype(dt)\n",
      "/home/pahoalapizco/anaconda3/envs/exploration_missing_values/lib/python3.9/site-packages/patsy/util.py:672: FutureWarning: is_categorical_dtype is deprecated and will be removed in a future version. Use isinstance(dtype, CategoricalDtype) instead\n",
      "  return _pandas_is_categorical_dtype(dt)\n",
      "/home/pahoalapizco/anaconda3/envs/exploration_missing_values/lib/python3.9/site-packages/patsy/util.py:672: FutureWarning: is_categorical_dtype is deprecated and will be removed in a future version. Use isinstance(dtype, CategoricalDtype) instead\n",
      "  return _pandas_is_categorical_dtype(dt)\n"
     ]
    },
    {
     "data": {
      "text/html": [
       "<table class=\"simpletable\">\n",
       "<caption>OLS Regression Results</caption>\n",
       "<tr>\n",
       "  <th>Dep. Variable:</th>          <td>temp</td>       <th>  R-squared:         </th> <td>   0.488</td>\n",
       "</tr>\n",
       "<tr>\n",
       "  <th>Model:</th>                   <td>OLS</td>       <th>  Adj. R-squared:    </th> <td>   0.483</td>\n",
       "</tr>\n",
       "<tr>\n",
       "  <th>Method:</th>             <td>Least Squares</td>  <th>  F-statistic:       </th> <td>   108.5</td>\n",
       "</tr>\n",
       "<tr>\n",
       "  <th>Date:</th>             <td>Mon, 22 Apr 2024</td> <th>  Prob (F-statistic):</th> <td>2.93e-18</td>\n",
       "</tr>\n",
       "<tr>\n",
       "  <th>Time:</th>                 <td>13:02:02</td>     <th>  Log-Likelihood:    </th> <td> -386.27</td>\n",
       "</tr>\n",
       "<tr>\n",
       "  <th>No. Observations:</th>      <td>   116</td>      <th>  AIC:               </th> <td>   776.5</td>\n",
       "</tr>\n",
       "<tr>\n",
       "  <th>Df Residuals:</th>          <td>   114</td>      <th>  BIC:               </th> <td>   782.1</td>\n",
       "</tr>\n",
       "<tr>\n",
       "  <th>Df Model:</th>              <td>     1</td>      <th>                     </th>     <td> </td>   \n",
       "</tr>\n",
       "<tr>\n",
       "  <th>Covariance Type:</th>      <td>nonrobust</td>    <th>                     </th>     <td> </td>   \n",
       "</tr>\n",
       "</table>"
      ],
      "text/plain": [
       "<class 'statsmodels.iolib.table.SimpleTable'>"
      ]
     },
     "execution_count": 5,
     "metadata": {},
     "output_type": "execute_result"
    }
   ],
   "source": [
    "(\n",
    "  smf.ols(\n",
    "    formula=\"temp ~ ozone\",\n",
    "    data=airquality_df\n",
    "  )\n",
    "  .fit()\n",
    "  .summary()\n",
    "  .tables[0]\n",
    ")"
   ]
  },
  {
   "cell_type": "markdown",
   "metadata": {},
   "source": [
    "Al ajustar el modelo utilizando `ozone` como variable independiente para predecir la temperatura, no obtenemos ningun error, warning o algo que nos indique que algo esta mal en el resultado del modelo.\n",
    "\n",
    "Sin embargo el dataset cuenta con $153$ observaciones, mientras que el modelo solo utilizó $116$, ya que **omitió** $41$ registros que seguraente eran de valores faltantes.\n",
    "\n",
    "Ahora, ¿qué resultado obtendriamos si ajustamos un modelo introduciendo más variables?"
   ]
  },
  {
   "cell_type": "code",
   "execution_count": 6,
   "metadata": {},
   "outputs": [
    {
     "name": "stderr",
     "output_type": "stream",
     "text": [
      "/home/pahoalapizco/anaconda3/envs/exploration_missing_values/lib/python3.9/site-packages/patsy/util.py:672: FutureWarning: is_categorical_dtype is deprecated and will be removed in a future version. Use isinstance(dtype, CategoricalDtype) instead\n",
      "  return _pandas_is_categorical_dtype(dt)\n",
      "/home/pahoalapizco/anaconda3/envs/exploration_missing_values/lib/python3.9/site-packages/patsy/util.py:672: FutureWarning: is_categorical_dtype is deprecated and will be removed in a future version. Use isinstance(dtype, CategoricalDtype) instead\n",
      "  return _pandas_is_categorical_dtype(dt)\n",
      "/home/pahoalapizco/anaconda3/envs/exploration_missing_values/lib/python3.9/site-packages/patsy/util.py:672: FutureWarning: is_categorical_dtype is deprecated and will be removed in a future version. Use isinstance(dtype, CategoricalDtype) instead\n",
      "  return _pandas_is_categorical_dtype(dt)\n",
      "/home/pahoalapizco/anaconda3/envs/exploration_missing_values/lib/python3.9/site-packages/patsy/util.py:672: FutureWarning: is_categorical_dtype is deprecated and will be removed in a future version. Use isinstance(dtype, CategoricalDtype) instead\n",
      "  return _pandas_is_categorical_dtype(dt)\n"
     ]
    },
    {
     "data": {
      "text/html": [
       "<table class=\"simpletable\">\n",
       "<caption>OLS Regression Results</caption>\n",
       "<tr>\n",
       "  <th>Dep. Variable:</th>          <td>temp</td>       <th>  R-squared:         </th> <td>   0.491</td>\n",
       "</tr>\n",
       "<tr>\n",
       "  <th>Model:</th>                   <td>OLS</td>       <th>  Adj. R-squared:    </th> <td>   0.481</td>\n",
       "</tr>\n",
       "<tr>\n",
       "  <th>Method:</th>             <td>Least Squares</td>  <th>  F-statistic:       </th> <td>   52.07</td>\n",
       "</tr>\n",
       "<tr>\n",
       "  <th>Date:</th>             <td>Mon, 22 Apr 2024</td> <th>  Prob (F-statistic):</th> <td>1.47e-16</td>\n",
       "</tr>\n",
       "<tr>\n",
       "  <th>Time:</th>                 <td>13:02:02</td>     <th>  Log-Likelihood:    </th> <td> -369.78</td>\n",
       "</tr>\n",
       "<tr>\n",
       "  <th>No. Observations:</th>      <td>   111</td>      <th>  AIC:               </th> <td>   745.6</td>\n",
       "</tr>\n",
       "<tr>\n",
       "  <th>Df Residuals:</th>          <td>   108</td>      <th>  BIC:               </th> <td>   753.7</td>\n",
       "</tr>\n",
       "<tr>\n",
       "  <th>Df Model:</th>              <td>     2</td>      <th>                     </th>     <td> </td>   \n",
       "</tr>\n",
       "<tr>\n",
       "  <th>Covariance Type:</th>      <td>nonrobust</td>    <th>                     </th>     <td> </td>   \n",
       "</tr>\n",
       "</table>"
      ],
      "text/plain": [
       "<class 'statsmodels.iolib.table.SimpleTable'>"
      ]
     },
     "execution_count": 6,
     "metadata": {},
     "output_type": "execute_result"
    }
   ],
   "source": [
    "(\n",
    "  smf.ols(\n",
    "    formula=\"temp ~ ozone + solar_r\",\n",
    "    data=airquality_df\n",
    "  )\n",
    "  .fit()\n",
    "  .summary()\n",
    "  .tables[0]\n",
    ")"
   ]
  },
  {
   "cell_type": "markdown",
   "metadata": {},
   "source": [
    "Tanto `ozone` como `solar_r` tienen  observaciones con valores faltantes, dandonos como resultado un modelo ajustado solo con $111$ observaciones y no con $153$ (total de registros del dataset).\n",
    "\n",
    "Si quisieramos comparar el modelo anterior con este nuevo, no podríamos, por que cada uno fue entrenado con un dataset diferente, el primero se entrenó con $116$ observaciones y el segundo con $111$.\n",
    "\n",
    "Esté es uno de los principales problemas de trabajar con valores faltantes no tratados; a simple vista todo esta bien, pero en realidad tenemos un modelo sesgado o con errores no visibles, y si quiseramos comparar modelos entre si para determinar cual se ajusta mejor, no podríamos porque los datos de entrenamiento son diferentes."
   ]
  },
  {
   "cell_type": "markdown",
   "metadata": {},
   "source": [
    "**Más ejemplos:**\n",
    "- Ajustar modelos de regresión líneal para predecir si el paciente sobrevive o no con base a distintas variables."
   ]
  },
  {
   "cell_type": "code",
   "execution_count": 7,
   "metadata": {},
   "outputs": [
    {
     "data": {
      "text/html": [
       "<div>\n",
       "<style scoped>\n",
       "    .dataframe tbody tr th:only-of-type {\n",
       "        vertical-align: middle;\n",
       "    }\n",
       "\n",
       "    .dataframe tbody tr th {\n",
       "        vertical-align: top;\n",
       "    }\n",
       "\n",
       "    .dataframe thead th {\n",
       "        text-align: right;\n",
       "    }\n",
       "</style>\n",
       "<table border=\"1\" class=\"dataframe\">\n",
       "  <thead>\n",
       "    <tr style=\"text-align: right;\">\n",
       "      <th></th>\n",
       "      <th>age</th>\n",
       "      <th>sex</th>\n",
       "      <th>sample.yr</th>\n",
       "      <th>kappa</th>\n",
       "      <th>lambda</th>\n",
       "      <th>flc.grp</th>\n",
       "      <th>creatinine</th>\n",
       "      <th>mgus</th>\n",
       "      <th>futime</th>\n",
       "      <th>death</th>\n",
       "      <th>chapter</th>\n",
       "    </tr>\n",
       "  </thead>\n",
       "  <tbody>\n",
       "    <tr>\n",
       "      <th>0</th>\n",
       "      <td>97</td>\n",
       "      <td>F</td>\n",
       "      <td>1997</td>\n",
       "      <td>5.70</td>\n",
       "      <td>4.860</td>\n",
       "      <td>10</td>\n",
       "      <td>1.7</td>\n",
       "      <td>0</td>\n",
       "      <td>85</td>\n",
       "      <td>1</td>\n",
       "      <td>Circulatory</td>\n",
       "    </tr>\n",
       "    <tr>\n",
       "      <th>1</th>\n",
       "      <td>92</td>\n",
       "      <td>F</td>\n",
       "      <td>2000</td>\n",
       "      <td>0.87</td>\n",
       "      <td>0.683</td>\n",
       "      <td>1</td>\n",
       "      <td>0.9</td>\n",
       "      <td>0</td>\n",
       "      <td>1281</td>\n",
       "      <td>1</td>\n",
       "      <td>Neoplasms</td>\n",
       "    </tr>\n",
       "    <tr>\n",
       "      <th>2</th>\n",
       "      <td>94</td>\n",
       "      <td>F</td>\n",
       "      <td>1997</td>\n",
       "      <td>4.36</td>\n",
       "      <td>3.850</td>\n",
       "      <td>10</td>\n",
       "      <td>1.4</td>\n",
       "      <td>0</td>\n",
       "      <td>69</td>\n",
       "      <td>1</td>\n",
       "      <td>Circulatory</td>\n",
       "    </tr>\n",
       "    <tr>\n",
       "      <th>3</th>\n",
       "      <td>92</td>\n",
       "      <td>F</td>\n",
       "      <td>1996</td>\n",
       "      <td>2.42</td>\n",
       "      <td>2.220</td>\n",
       "      <td>9</td>\n",
       "      <td>1.0</td>\n",
       "      <td>0</td>\n",
       "      <td>115</td>\n",
       "      <td>1</td>\n",
       "      <td>Circulatory</td>\n",
       "    </tr>\n",
       "    <tr>\n",
       "      <th>4</th>\n",
       "      <td>93</td>\n",
       "      <td>F</td>\n",
       "      <td>1996</td>\n",
       "      <td>1.32</td>\n",
       "      <td>1.690</td>\n",
       "      <td>6</td>\n",
       "      <td>1.1</td>\n",
       "      <td>0</td>\n",
       "      <td>1039</td>\n",
       "      <td>1</td>\n",
       "      <td>Circulatory</td>\n",
       "    </tr>\n",
       "  </tbody>\n",
       "</table>\n",
       "</div>"
      ],
      "text/plain": [
       "   age sex  sample.yr  kappa  lambda  flc.grp  creatinine  mgus  futime  \\\n",
       "0   97   F       1997   5.70   4.860       10         1.7     0      85   \n",
       "1   92   F       2000   0.87   0.683        1         0.9     0    1281   \n",
       "2   94   F       1997   4.36   3.850       10         1.4     0      69   \n",
       "3   92   F       1996   2.42   2.220        9         1.0     0     115   \n",
       "4   93   F       1996   1.32   1.690        6         1.1     0    1039   \n",
       "\n",
       "   death      chapter  \n",
       "0      1  Circulatory  \n",
       "1      1    Neoplasms  \n",
       "2      1  Circulatory  \n",
       "3      1  Circulatory  \n",
       "4      1  Circulatory  "
      ]
     },
     "execution_count": 7,
     "metadata": {},
     "output_type": "execute_result"
    }
   ],
   "source": [
    "survival_df = sm.datasets.get_rdataset(\"flchain\", \"survival\").data\n",
    "survival_df.head()"
   ]
  },
  {
   "cell_type": "code",
   "execution_count": 8,
   "metadata": {},
   "outputs": [
    {
     "name": "stdout",
     "output_type": "stream",
     "text": [
      "(7874, 11)\n"
     ]
    },
    {
     "data": {
      "text/plain": [
       "age              0\n",
       "sex              0\n",
       "sample.yr        0\n",
       "kappa            0\n",
       "lambda           0\n",
       "flc.grp          0\n",
       "creatinine    1350\n",
       "mgus             0\n",
       "futime           0\n",
       "death            0\n",
       "chapter       5705\n",
       "dtype: int64"
      ]
     },
     "execution_count": 8,
     "metadata": {},
     "output_type": "execute_result"
    }
   ],
   "source": [
    "print(survival_df.shape)\n",
    "survival_df.isna().sum()"
   ]
  },
  {
   "cell_type": "markdown",
   "metadata": {},
   "source": [
    "- Variable depndiente: `death`\n",
    "- Variable predictora: `chapter`"
   ]
  },
  {
   "cell_type": "code",
   "execution_count": 9,
   "metadata": {},
   "outputs": [
    {
     "name": "stderr",
     "output_type": "stream",
     "text": [
      "/home/pahoalapizco/anaconda3/envs/exploration_missing_values/lib/python3.9/site-packages/patsy/util.py:672: FutureWarning: is_categorical_dtype is deprecated and will be removed in a future version. Use isinstance(dtype, CategoricalDtype) instead\n",
      "  return _pandas_is_categorical_dtype(dt)\n",
      "/home/pahoalapizco/anaconda3/envs/exploration_missing_values/lib/python3.9/site-packages/patsy/util.py:672: FutureWarning: is_categorical_dtype is deprecated and will be removed in a future version. Use isinstance(dtype, CategoricalDtype) instead\n",
      "  return _pandas_is_categorical_dtype(dt)\n",
      "/home/pahoalapizco/anaconda3/envs/exploration_missing_values/lib/python3.9/site-packages/statsmodels/regression/linear_model.py:1736: RuntimeWarning: divide by zero encountered in scalar divide\n",
      "  return 1 - self.ssr/self.centered_tss\n"
     ]
    },
    {
     "data": {
      "text/html": [
       "<table class=\"simpletable\">\n",
       "<caption>OLS Regression Results</caption>\n",
       "<tr>\n",
       "  <th>Dep. Variable:</th>          <td>death</td>      <th>  R-squared:         </th>  <td>    -inf</td> \n",
       "</tr>\n",
       "<tr>\n",
       "  <th>Model:</th>                   <td>OLS</td>       <th>  Adj. R-squared:    </th>  <td>    -inf</td> \n",
       "</tr>\n",
       "<tr>\n",
       "  <th>Method:</th>             <td>Least Squares</td>  <th>  F-statistic:       </th>  <td>  -143.5</td> \n",
       "</tr>\n",
       "<tr>\n",
       "  <th>Date:</th>             <td>Mon, 22 Apr 2024</td> <th>  Prob (F-statistic):</th>   <td>  1.00</td>  \n",
       "</tr>\n",
       "<tr>\n",
       "  <th>Time:</th>                 <td>13:02:02</td>     <th>  Log-Likelihood:    </th>  <td>  69736.</td> \n",
       "</tr>\n",
       "<tr>\n",
       "  <th>No. Observations:</th>      <td>  2169</td>      <th>  AIC:               </th> <td>-1.394e+05</td>\n",
       "</tr>\n",
       "<tr>\n",
       "  <th>Df Residuals:</th>          <td>  2153</td>      <th>  BIC:               </th> <td>-1.393e+05</td>\n",
       "</tr>\n",
       "<tr>\n",
       "  <th>Df Model:</th>              <td>    15</td>      <th>                     </th>      <td> </td>    \n",
       "</tr>\n",
       "<tr>\n",
       "  <th>Covariance Type:</th>      <td>nonrobust</td>    <th>                     </th>      <td> </td>    \n",
       "</tr>\n",
       "</table>"
      ],
      "text/plain": [
       "<class 'statsmodels.iolib.table.SimpleTable'>"
      ]
     },
     "execution_count": 9,
     "metadata": {},
     "output_type": "execute_result"
    }
   ],
   "source": [
    "(\n",
    "  smf.ols(\n",
    "    formula=\"death ~ C(chapter)\",\n",
    "    data=survival_df\n",
    "  )\n",
    "  .fit()\n",
    "  .summary()\n",
    "  .tables[0]\n",
    ")"
   ]
  },
  {
   "cell_type": "markdown",
   "metadata": {},
   "source": [
    "- Variable depndiente: `death`\n",
    "- Variable predictora: `creatinine`"
   ]
  },
  {
   "cell_type": "code",
   "execution_count": 10,
   "metadata": {},
   "outputs": [
    {
     "name": "stderr",
     "output_type": "stream",
     "text": [
      "/home/pahoalapizco/anaconda3/envs/exploration_missing_values/lib/python3.9/site-packages/patsy/util.py:672: FutureWarning: is_categorical_dtype is deprecated and will be removed in a future version. Use isinstance(dtype, CategoricalDtype) instead\n",
      "  return _pandas_is_categorical_dtype(dt)\n",
      "/home/pahoalapizco/anaconda3/envs/exploration_missing_values/lib/python3.9/site-packages/patsy/util.py:672: FutureWarning: is_categorical_dtype is deprecated and will be removed in a future version. Use isinstance(dtype, CategoricalDtype) instead\n",
      "  return _pandas_is_categorical_dtype(dt)\n",
      "/home/pahoalapizco/anaconda3/envs/exploration_missing_values/lib/python3.9/site-packages/patsy/util.py:672: FutureWarning: is_categorical_dtype is deprecated and will be removed in a future version. Use isinstance(dtype, CategoricalDtype) instead\n",
      "  return _pandas_is_categorical_dtype(dt)\n"
     ]
    },
    {
     "data": {
      "text/html": [
       "<table class=\"simpletable\">\n",
       "<caption>OLS Regression Results</caption>\n",
       "<tr>\n",
       "  <th>Dep. Variable:</th>          <td>death</td>      <th>  R-squared:         </th> <td>   0.025</td>\n",
       "</tr>\n",
       "<tr>\n",
       "  <th>Model:</th>                   <td>OLS</td>       <th>  Adj. R-squared:    </th> <td>   0.025</td>\n",
       "</tr>\n",
       "<tr>\n",
       "  <th>Method:</th>             <td>Least Squares</td>  <th>  F-statistic:       </th> <td>   165.0</td>\n",
       "</tr>\n",
       "<tr>\n",
       "  <th>Date:</th>             <td>Mon, 22 Apr 2024</td> <th>  Prob (F-statistic):</th> <td>2.59e-37</td>\n",
       "</tr>\n",
       "<tr>\n",
       "  <th>Time:</th>                 <td>13:02:02</td>     <th>  Log-Likelihood:    </th> <td> -4089.4</td>\n",
       "</tr>\n",
       "<tr>\n",
       "  <th>No. Observations:</th>      <td>  6524</td>      <th>  AIC:               </th> <td>   8183.</td>\n",
       "</tr>\n",
       "<tr>\n",
       "  <th>Df Residuals:</th>          <td>  6522</td>      <th>  BIC:               </th> <td>   8196.</td>\n",
       "</tr>\n",
       "<tr>\n",
       "  <th>Df Model:</th>              <td>     1</td>      <th>                     </th>     <td> </td>   \n",
       "</tr>\n",
       "<tr>\n",
       "  <th>Covariance Type:</th>      <td>nonrobust</td>    <th>                     </th>     <td> </td>   \n",
       "</tr>\n",
       "</table>"
      ],
      "text/plain": [
       "<class 'statsmodels.iolib.table.SimpleTable'>"
      ]
     },
     "execution_count": 10,
     "metadata": {},
     "output_type": "execute_result"
    }
   ],
   "source": [
    "(\n",
    "  smf.ols(\n",
    "    formula=\"death ~ creatinine\",\n",
    "    data=survival_df\n",
    "  )\n",
    "  .fit()\n",
    "  .summary()\n",
    "  .tables[0]\n",
    ")"
   ]
  },
  {
   "cell_type": "code",
   "execution_count": 11,
   "metadata": {},
   "outputs": [
    {
     "name": "stderr",
     "output_type": "stream",
     "text": [
      "/home/pahoalapizco/anaconda3/envs/exploration_missing_values/lib/python3.9/site-packages/patsy/util.py:672: FutureWarning: is_categorical_dtype is deprecated and will be removed in a future version. Use isinstance(dtype, CategoricalDtype) instead\n",
      "  return _pandas_is_categorical_dtype(dt)\n",
      "/home/pahoalapizco/anaconda3/envs/exploration_missing_values/lib/python3.9/site-packages/patsy/util.py:672: FutureWarning: is_categorical_dtype is deprecated and will be removed in a future version. Use isinstance(dtype, CategoricalDtype) instead\n",
      "  return _pandas_is_categorical_dtype(dt)\n",
      "/home/pahoalapizco/anaconda3/envs/exploration_missing_values/lib/python3.9/site-packages/patsy/util.py:672: FutureWarning: is_categorical_dtype is deprecated and will be removed in a future version. Use isinstance(dtype, CategoricalDtype) instead\n",
      "  return _pandas_is_categorical_dtype(dt)\n",
      "/home/pahoalapizco/anaconda3/envs/exploration_missing_values/lib/python3.9/site-packages/statsmodels/regression/linear_model.py:1736: RuntimeWarning: divide by zero encountered in scalar divide\n",
      "  return 1 - self.ssr/self.centered_tss\n"
     ]
    },
    {
     "data": {
      "text/html": [
       "<table class=\"simpletable\">\n",
       "<caption>OLS Regression Results</caption>\n",
       "<tr>\n",
       "  <th>Dep. Variable:</th>          <td>death</td>      <th>  R-squared:         </th>  <td>    -inf</td> \n",
       "</tr>\n",
       "<tr>\n",
       "  <th>Model:</th>                   <td>OLS</td>       <th>  Adj. R-squared:    </th>  <td>    -inf</td> \n",
       "</tr>\n",
       "<tr>\n",
       "  <th>Method:</th>             <td>Least Squares</td>  <th>  F-statistic:       </th>  <td>  -121.6</td> \n",
       "</tr>\n",
       "<tr>\n",
       "  <th>Date:</th>             <td>Mon, 22 Apr 2024</td> <th>  Prob (F-statistic):</th>   <td>  1.00</td>  \n",
       "</tr>\n",
       "<tr>\n",
       "  <th>Time:</th>                 <td>13:02:03</td>     <th>  Log-Likelihood:    </th>  <td>  63567.</td> \n",
       "</tr>\n",
       "<tr>\n",
       "  <th>No. Observations:</th>      <td>  1962</td>      <th>  AIC:               </th> <td>-1.271e+05</td>\n",
       "</tr>\n",
       "<tr>\n",
       "  <th>Df Residuals:</th>          <td>  1945</td>      <th>  BIC:               </th> <td>-1.270e+05</td>\n",
       "</tr>\n",
       "<tr>\n",
       "  <th>Df Model:</th>              <td>    16</td>      <th>                     </th>      <td> </td>    \n",
       "</tr>\n",
       "<tr>\n",
       "  <th>Covariance Type:</th>      <td>nonrobust</td>    <th>                     </th>      <td> </td>    \n",
       "</tr>\n",
       "</table>"
      ],
      "text/plain": [
       "<class 'statsmodels.iolib.table.SimpleTable'>"
      ]
     },
     "execution_count": 11,
     "metadata": {},
     "output_type": "execute_result"
    }
   ],
   "source": [
    "(\n",
    "  smf.ols(\n",
    "    formula=\"death ~ C(chapter) + creatinine\",\n",
    "    data=survival_df\n",
    "  )\n",
    "  .fit()\n",
    "  .summary()\n",
    "  .tables[0]\n",
    ")"
   ]
  }
 ],
 "metadata": {
  "kernelspec": {
   "display_name": "exploration_missing_values",
   "language": "python",
   "name": "python3"
  },
  "language_info": {
   "codemirror_mode": {
    "name": "ipython",
    "version": 3
   },
   "file_extension": ".py",
   "mimetype": "text/x-python",
   "name": "python",
   "nbconvert_exporter": "python",
   "pygments_lexer": "ipython3",
   "version": "3.9.18"
  }
 },
 "nbformat": 4,
 "nbformat_minor": 2
}
