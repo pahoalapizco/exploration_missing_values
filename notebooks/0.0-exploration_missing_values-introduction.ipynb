{
 "cells": [
  {
   "cell_type": "markdown",
   "metadata": {},
   "source": [
    "# Manejo de datos faltantes: detección y exploración"
   ]
  },
  {
   "cell_type": "markdown",
   "metadata": {},
   "source": [
    "## Importar líbrerias"
   ]
  },
  {
   "cell_type": "markdown",
   "metadata": {},
   "source": [
    "Las líbrerias que importamos a continuación son fundamentales para el análisis, visualización y manimulación de datos.\n",
    "- `matplotlib.pyplot` y - `seaborn`: Herramientas por excelencia para la visualización de datos.\n",
    "- `missingno`: Líbreria especial para visualizar valores faltantes.\n",
    "- `numpy`: Computo cientifico y manejo de grándes volumenes de arrays y matrices con Python.\n",
    "- `pandas`: Manipulación de datos.\n",
    "- `pyreadr`: Leectura de archivos de lenguaje `R`.\n",
    "- `upsetplot`: Explorar y visualizar intersecciones complejas de datos."
   ]
  },
  {
   "cell_type": "code",
   "execution_count": 1,
   "metadata": {},
   "outputs": [],
   "source": [
    "import matplotlib.pyplot as plt \n",
    "import missingno\n",
    "import numpy as np\n",
    "import pandas as pd\n",
    "import pyreadr\n",
    "import seaborn as sns\n",
    "import upsetplot"
   ]
  },
  {
   "cell_type": "markdown",
   "metadata": {},
   "source": [
    "## Configurar el aspecto general de las gráficas del proyecto"
   ]
  },
  {
   "cell_type": "code",
   "execution_count": 2,
   "metadata": {},
   "outputs": [],
   "source": [
    "%matplotlib inline\n",
    "\n",
    "sns.set_theme(\n",
    "    rc={\n",
    "        \"figure.figsize\": (10, 10)\n",
    "    }\n",
    ")\n",
    "\n",
    "sns.set_style(\"whitegrid\")"
   ]
  },
  {
   "cell_type": "markdown",
   "metadata": {},
   "source": [
    "- `%matplotlib inline`: Magic command de Jupyter, asegura que todos los gráficos generados por `matplotlib` se muestren directamente en el notebook.\n",
    "- `sns.set_theme`: Configuración del tema global de los gráficos de `seaborn` y `matplotlib`. Para este notebook le decimor que los gráficos tendran un tamaño de 10x10\"\n",
    "- `sns.set_style(\"whitegrid\")`: Define el estilo de fondo de los gráficos, en este caso el fondo sera blanco."
   ]
  },
  {
   "cell_type": "markdown",
   "metadata": {},
   "source": [
    "## Operaciones con valores faltantes"
   ]
  },
  {
   "cell_type": "markdown",
   "metadata": {},
   "source": [
    "### Python"
   ]
  },
  {
   "cell_type": "code",
   "execution_count": null,
   "metadata": {},
   "outputs": [],
   "source": []
  },
  {
   "cell_type": "markdown",
   "metadata": {},
   "source": [
    "### Numpy"
   ]
  },
  {
   "cell_type": "code",
   "execution_count": null,
   "metadata": {},
   "outputs": [],
   "source": []
  },
  {
   "cell_type": "markdown",
   "metadata": {},
   "source": [
    "### Pandas"
   ]
  },
  {
   "cell_type": "code",
   "execution_count": null,
   "metadata": {},
   "outputs": [],
   "source": []
  }
 ],
 "metadata": {
  "kernelspec": {
   "display_name": "exploration_missing_values",
   "language": "python",
   "name": "python3"
  },
  "language_info": {
   "codemirror_mode": {
    "name": "ipython",
    "version": 3
   },
   "file_extension": ".py",
   "mimetype": "text/x-python",
   "name": "python",
   "nbconvert_exporter": "python",
   "pygments_lexer": "ipython3",
   "version": "3.7.12"
  }
 },
 "nbformat": 4,
 "nbformat_minor": 2
}
